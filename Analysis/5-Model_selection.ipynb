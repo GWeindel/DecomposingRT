{
 "cells": [
  {
   "cell_type": "code",
   "execution_count": 3,
   "metadata": {},
   "outputs": [],
   "source": [
    "import matplotlib.pyplot as plt\n",
    "import numpy as np\n",
    "import glob,os\n",
    "import pandas as pd\n",
    "import hddm\n",
    "\n",
    "plt.style.use('seaborn-ticks')\n",
    "data = pd.read_csv('trimmed_data.csv')"
   ]
  },
  {
   "cell_type": "markdown",
   "metadata": {},
   "source": [
    "## Models\n",
    "\n",
    "\n",
    "\n",
    "| Name | a | v | ter | z | sz | sv | st | \n",
    "| --- | --- | --- | --- | --- | --- | --- | --- | \n",
    "| M1 | SAT | contrast | SAT | 0 | SAT | 1 | 1 | \n",
    "| M2 | SAT | SAT $\\times$ contrast | SAT | 0 | SAT | 1 | 1 |\n",
    "| M3 | SAT | contrast | SAT $\\times$ Response | 0 | SAT | 1 | 1 |\n",
    "| M4 | SAT | SAT $\\times$ contrast | SAT $\\times$ Response | 0 | SAT | 1 | 1 |\n",
    "| M5 | SAT | contrast | SAT | 1 | SAT | 1 | 1 | \n",
    "| M6 | SAT | SAT $\\times$ contrast | SAT | 1 | SAT | 1 | 1 |\n",
    "| M7 | SAT | contrast | SAT $\\times$ Response | 1 | SAT | 1 | 1 |\n",
    "| M8 | SAT | SAT $\\times$ contrast | SAT $\\times$ Response | 1 | SAT | 1 | 1 |"
   ]
  },
  {
   "cell_type": "markdown",
   "metadata": {},
   "source": [
    "## Computing DIC for Experiment 1"
   ]
  },
  {
   "cell_type": "code",
   "execution_count": 4,
   "metadata": {},
   "outputs": [],
   "source": [
    "m1, m2, m3, m4, m5, m6, m7, m8 = [],[],[],[],[],[],[],[]\n",
    "m4 = []\n",
    "for f in os.listdir(\"DDM/Fits/ModelSelection/\"):\n",
    "    if \"Exp1\" in f:\n",
    "        if \"M1\" in f:\n",
    "            m1.append(hddm.load(\"DDM/Fits/ModelSelection/%s\"%f))\n",
    "        elif \"M2\" in f:\n",
    "            m2.append(hddm.load(\"DDM/Fits/ModelSelection/%s\"%f))\n",
    "        elif \"M3\" in f:\n",
    "            m3.append(hddm.load(\"DDM/Fits/ModelSelection/%s\"%f))\n",
    "        if \"M4\" in f:\n",
    "            m4.append(hddm.load(\"DDM/Fits/ModelSelection/%s\"%f))\n",
    "        elif \"M5\" in f:\n",
    "            m5.append(hddm.load(\"DDM/Fits/ModelSelection/%s\"%f))\n",
    "        elif \"M6\" in f:\n",
    "            m6.append(hddm.load(\"DDM/Fits/ModelSelection/%s\"%f))\n",
    "#        elif \"M7\" in f:\n",
    "#            m7.append(hddm.load(\"DDM/Fits/ModelSelection/%s\"%f))\n",
    "#        elif \"M8\" in f:\n",
    "#            m8.append(hddm.load(\"DDM/Fits/ModelSelection/%s\"%f))"
   ]
  },
  {
   "cell_type": "code",
   "execution_count": 5,
   "metadata": {},
   "outputs": [],
   "source": [
    "from kabuki import utils\n",
    "\n",
    "m1_1 = utils.concat_models(m1)\n",
    "m2_1 = utils.concat_models(m2)\n",
    "m3_1 = utils.concat_models(m3)\n",
    "m4_1 = utils.concat_models(m4)\n",
    "m5_1 = utils.concat_models(m5)\n",
    "m6_1 = utils.concat_models(m6)\n",
    "#m7_1 = utils.concat_models(m7)\n",
    "#m8_1 = utils.concat_models(m8)"
   ]
  },
  {
   "cell_type": "code",
   "execution_count": 6,
   "metadata": {},
   "outputs": [
    {
     "name": "stdout",
     "output_type": "stream",
     "text": [
      "-21926.602333132145\n",
      "-21960.967657977522\n",
      "-22295.11398997247\n",
      "-22328.652357917672\n",
      "-22898.029001538373\n",
      "-22930.805185943624\n"
     ]
    }
   ],
   "source": [
    "print(m1_1.dic)\n",
    "print(m2_1.dic)\n",
    "print(m3_1.dic)\n",
    "print(m4_1.dic)\n",
    "print(m5_1.dic)\n",
    "print(m6_1.dic)\n",
    "#print(m7_1.dic)\n",
    "#print(m8_1.dic)"
   ]
  },
  {
   "cell_type": "code",
   "execution_count": 7,
   "metadata": {},
   "outputs": [
    {
     "name": "stdout",
     "output_type": "stream",
     "text": [
      "-21802.688905827956\n",
      "-21782.491891267906\n",
      "-22143.48970612247\n",
      "-22116.87847747006\n",
      "-22760.58926983863\n",
      "-22731.893433074598\n"
     ]
    }
   ],
   "source": [
    "print(m1_1.mc.BPIC)\n",
    "print(m2_1.mc.BPIC)\n",
    "print(m3_1.mc.BPIC)\n",
    "print(m4_1.mc.BPIC)\n",
    "print(m5_1.mc.BPIC)\n",
    "print(m6_1.mc.BPIC)"
   ]
  },
  {
   "cell_type": "markdown",
   "metadata": {},
   "source": [
    "## Computing DIC for Experiment 2"
   ]
  },
  {
   "cell_type": "code",
   "execution_count": 8,
   "metadata": {},
   "outputs": [],
   "source": [
    "m1, m2, m3, m4, m5, m6, m7, m8 = [],[],[],[],[],[],[],[]\n",
    "\n",
    "for f in os.listdir(\"DDM/Fits/ModelSelection/\"):\n",
    "    if \"Exp2\" in f:\n",
    "        if \"M1\" in f:\n",
    "            m1.append(hddm.load(\"DDM/Fits/ModelSelection/%s\"%f))\n",
    "        elif \"M2\" in f:\n",
    "            m2.append(hddm.load(\"DDM/Fits/ModelSelection/%s\"%f))\n",
    "        elif \"M3\" in f:\n",
    "            m3.append(hddm.load(\"DDM/Fits/ModelSelection/%s\"%f))\n",
    "        elif \"M4\" in f:\n",
    "            m4.append(hddm.load(\"DDM/Fits/ModelSelection/%s\"%f))\n",
    "        elif \"M5\" in f:\n",
    "            m5.append(hddm.load(\"DDM/Fits/ModelSelection/%s\"%f))\n",
    "        elif \"M6\" in f:\n",
    "            m6.append(hddm.load(\"DDM/Fits/ModelSelection/%s\"%f))\n",
    "#        elif \"M7\" in f:\n",
    "#            m7.append(hddm.load(\"DDM/Fits/ModelSelection/%s\"%f))\n",
    "#        elif \"M8\" in f:\n",
    "#            m8.append(hddm.load(\"DDM/Fits/ModelSelection/%s\"%f))\n",
    "\n",
    "m1_2 = utils.concat_models(m1)\n",
    "m2_2 = utils.concat_models(m2)\n",
    "m3_2 = utils.concat_models(m3)\n",
    "m4_2 = utils.concat_models(m4)\n",
    "m5_2 = utils.concat_models(m5)\n",
    "m6_2 = utils.concat_models(m6)\n",
    "#m7_2 = utils.concat_models(m7)\n",
    "#m8_2 = utils.concat_models(m8)"
   ]
  },
  {
   "cell_type": "code",
   "execution_count": 9,
   "metadata": {},
   "outputs": [],
   "source": [
    "from kabuki import utils\n",
    "\n",
    "m1_2 = utils.concat_models(m1)\n",
    "m2_2 = utils.concat_models(m2)\n",
    "m3_2 = utils.concat_models(m3)\n",
    "m4_2 = utils.concat_models(m4)\n",
    "m5_2 = utils.concat_models(m5)\n",
    "m6_2 = utils.concat_models(m6)\n"
   ]
  },
  {
   "cell_type": "code",
   "execution_count": 10,
   "metadata": {},
   "outputs": [
    {
     "name": "stdout",
     "output_type": "stream",
     "text": [
      "-31551.667711560793\n",
      "-31721.940124328994\n",
      "-31864.4372925979\n",
      "-32030.88686648981\n",
      "-32663.68185773703\n",
      "-32843.915710994755\n"
     ]
    }
   ],
   "source": [
    "print(m1_2.dic)\n",
    "print(m2_2.dic)\n",
    "print(m3_2.dic)\n",
    "print(m4_2.dic)\n",
    "print(m5_2.dic)\n",
    "print(m6_2.dic)\n",
    "#print(m7_2.dic)\n",
    "#print(m8_2.dic)"
   ]
  },
  {
   "cell_type": "code",
   "execution_count": 11,
   "metadata": {},
   "outputs": [
    {
     "name": "stdout",
     "output_type": "stream",
     "text": [
      "-31437.9388220701\n",
      "-31567.648164410384\n",
      "-31721.182242066257\n",
      "-31842.154597338216\n",
      "-32538.463150958225\n",
      "-32671.222742580212\n"
     ]
    }
   ],
   "source": [
    "print(m1_2.mc.BPIC)\n",
    "print(m2_2.mc.BPIC)\n",
    "print(m3_2.mc.BPIC)\n",
    "print(m4_2.mc.BPIC)\n",
    "print(m5_2.mc.BPIC)\n",
    "print(m6_2.mc.BPIC)"
   ]
  }
 ],
 "metadata": {
  "kernelspec": {
   "display_name": "mne-python",
   "language": "python",
   "name": "mne-python"
  },
  "language_info": {
   "codemirror_mode": {
    "name": "ipython",
    "version": 2
   },
   "file_extension": ".py",
   "mimetype": "text/x-python",
   "name": "python",
   "nbconvert_exporter": "python",
   "pygments_lexer": "ipython2",
   "version": "2.7.15"
  }
 },
 "nbformat": 4,
 "nbformat_minor": 4
}
