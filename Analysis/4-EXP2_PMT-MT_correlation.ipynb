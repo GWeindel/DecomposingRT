{
 "cells": [
  {
   "cell_type": "code",
   "execution_count": 1,
   "metadata": {},
   "outputs": [
    {
     "name": "stderr",
     "output_type": "stream",
     "text": [
      "/home/gabriel/anaconda3/envs/pystan/lib/python3.7/site-packages/xarray/core/merge.py:18: FutureWarning: The Panel class is removed from pandas. Accessing it from the top-level namespace will also be removed in the next version\n",
      "  PANDAS_TYPES = (pd.Series, pd.DataFrame, pd.Panel)\n",
      "/home/gabriel/anaconda3/envs/pystan/lib/python3.7/site-packages/xarray/core/dataarray.py:1829: FutureWarning: The Panel class is removed from pandas. Accessing it from the top-level namespace will also be removed in the next version\n",
      "  'DataArray', pd.Series, pd.DataFrame, pd.Panel]:\n"
     ]
    }
   ],
   "source": [
    "import pandas as pd\n",
    "import numpy as np\n",
    "import seaborn as sns\n",
    "import matplotlib.pyplot as plt\n",
    "import scipy.stats as stats\n",
    "import patsy\n",
    "import pystan\n",
    "import arviz as az\n",
    "import stan_utility\n",
    "import glob,os\n",
    "\n",
    "plt.style.use('seaborn-ticks')\n",
    "\n",
    "order = [\"Accuracy\",\"Speed\"]\n",
    "df = dffull = pd.read_csv('../Raw_data/markers/MRK_SAT.csv')\n",
    "df = df[df.exp==2]\n",
    "df = df[(df.trialType == \"SA\") & (np.isfinite(df.pmt))].reset_index(drop=True)#Removing unmarked EMG trials"
   ]
  },
  {
   "cell_type": "markdown",
   "metadata": {},
   "source": [
    "# PMT-MT Correlation coefficient on fast-guesses"
   ]
  },
  {
   "cell_type": "markdown",
   "metadata": {},
   "source": [
    "## Applying EWMA on PMT"
   ]
  },
  {
   "cell_type": "code",
   "execution_count": 2,
   "metadata": {},
   "outputs": [],
   "source": [
    "from EWMA import ewmaseg\n",
    "\n",
    "trimmed_df = df.reset_index(drop=True)"
   ]
  },
  {
   "cell_type": "code",
   "execution_count": 3,
   "metadata": {},
   "outputs": [
    {
     "name": "stdout",
     "output_type": "stream",
     "text": [
      "Cutoff = 221 ms for participant S10_2 in condition Accuracy. 23 trials removed\n",
      "Cutoff = 200 ms for participant S10_2 in condition Speed. 23 trials removed\n",
      "Cutoff = 213 ms for participant S11_2 in condition Accuracy. 22 trials removed\n",
      "Cutoff = 204 ms for participant S11_2 in condition Speed. 247 trials removed\n",
      "Cutoff = 313 ms for participant S12_2 in condition Accuracy. 21 trials removed\n",
      "Cutoff = 260 ms for participant S12_2 in condition Speed. 57 trials removed\n",
      "Cutoff = 227 ms for participant S13_2 in condition Accuracy. 29 trials removed\n",
      "Cutoff = 155 ms for participant S13_2 in condition Speed. 130 trials removed\n",
      "Cutoff = 223 ms for participant S14_2 in condition Accuracy. 59 trials removed\n",
      "Cutoff = 138 ms for participant S14_2 in condition Speed. 111 trials removed\n",
      "Cutoff = 249 ms for participant S15_2 in condition Accuracy. 30 trials removed\n",
      "Cutoff = 262 ms for participant S15_2 in condition Speed. 398 trials removed\n",
      "Cutoff = 344 ms for participant S16_2 in condition Accuracy. 12 trials removed\n",
      "Cutoff = 231 ms for participant S16_2 in condition Speed. 161 trials removed\n",
      "Cutoff = 114 ms for participant S1_2 in condition Accuracy. 37 trials removed\n",
      "Cutoff = 103 ms for participant S1_2 in condition Speed. 177 trials removed\n",
      "Cutoff = 252 ms for participant S2_2 in condition Accuracy. 31 trials removed\n",
      "Cutoff = 216 ms for participant S2_2 in condition Speed. 117 trials removed\n",
      "Cutoff = 306 ms for participant S3_2 in condition Accuracy. 19 trials removed\n",
      "Cutoff = 245 ms for participant S3_2 in condition Speed. 197 trials removed\n",
      "Cutoff = 297 ms for participant S4_2 in condition Accuracy. 24 trials removed\n",
      "Cutoff = 238 ms for participant S4_2 in condition Speed. 410 trials removed\n",
      "Cutoff = 267 ms for participant S5_2 in condition Accuracy. 18 trials removed\n",
      "Cutoff = 229 ms for participant S5_2 in condition Speed. 18 trials removed\n",
      "Cutoff = 325 ms for participant S6_2 in condition Accuracy. 59 trials removed\n",
      "Cutoff = 125 ms for participant S6_2 in condition Speed. 186 trials removed\n",
      "Cutoff = 271 ms for participant S7_2 in condition Accuracy. 29 trials removed\n",
      "Cutoff = 177 ms for participant S7_2 in condition Speed. 46 trials removed\n",
      "Cutoff = 296 ms for participant S8_2 in condition Accuracy. 18 trials removed\n",
      "Cutoff = 151 ms for participant S8_2 in condition Speed. 72 trials removed\n",
      "Cutoff = 284 ms for participant S9_2 in condition Accuracy. 22 trials removed\n",
      "Cutoff = 167 ms for participant S9_2 in condition Speed. 44 trials removed\n"
     ]
    }
   ],
   "source": [
    "fastguess_corr = [] #Storing trials identified as fast-guesses\n",
    "for sub, subdat in trimmed_df.groupby(['participant','condition']):\n",
    "    initial = len(subdat)\n",
    "    cutoff = ewmaseg(subdat.response.values, subdat.pmt.values, alpha=.02, limit=.6, plotit=False)['rtbound']\n",
    "    #Turn plotit True for rejection plot\n",
    "    fastguess_corr.append([np.corrcoef(subdat[subdat.pmt < cutoff].mt, subdat[subdat.pmt < cutoff].pmt)[0, 1], subdat[subdat.pmt < cutoff].pmt.mean(), sub[0], sub[1]])\n",
    "    trimmed_df.drop(subdat[subdat.pmt < cutoff].index, inplace =True, axis=0)\n",
    "    print(\"Cutoff = %i ms for participant %s in condition %s. %i trials removed\" \n",
    "          %(np.round(cutoff), sub[0], sub[1], len(subdat[subdat.pmt < cutoff].index)))\n",
    "    plt.show()\n",
    "fastguess_corr = pd.DataFrame(fastguess_corr, columns=[\"correl\", \"pmt\", \"participant\", \"SAT\"])"
   ]
  },
  {
   "cell_type": "markdown",
   "metadata": {},
   "source": [
    "### Comparing fast-guess removal between PMT and RT distributions"
   ]
  },
  {
   "cell_type": "code",
   "execution_count": 4,
   "metadata": {},
   "outputs": [
    {
     "name": "stdout",
     "output_type": "stream",
     "text": [
      "(0.9431987172458611, 6.708404361149943e-16)\n"
     ]
    },
    {
     "data": {
      "image/png": "[encoded data removed]",
      "text/plain": [
       "<Figure size 432x288 with 1 Axes>"
      ]
     },
     "metadata": {
      "needs_background": "light"
     },
     "output_type": "display_data"
    }
   ],
   "source": [
    "trim = []\n",
    "\n",
    "for sub, subdat in df.groupby(['participant','condition']):\n",
    "    rt_cutoff = ewmaseg(subdat.response.values, subdat.rt.values, alpha=.02, limit=.6, plotit=False)['rtbound']\n",
    "    rt_trim = len(subdat[subdat.rt < rt_cutoff].index)\n",
    "    pmt_cutoff = ewmaseg(subdat.response.values, subdat.pmt.values, alpha=.02, limit=.6, plotit=False)['rtbound']\n",
    "    pmt_trim = len(subdat[subdat.pmt < pmt_cutoff].index)\n",
    "    trim.append([rt_trim, pmt_trim])\n",
    "trim = [[x[0] for x in trim],[x[1] for x in trim]]\n",
    "\n",
    "print(stats.pearsonr(trim[0], trim[1]))\n",
    "plt.plot(trim[0], trim[1],'o')\n",
    "plt.show()"
   ]
  },
  {
   "cell_type": "markdown",
   "metadata": {},
   "source": [
    "## LMM on fast-guess correlations"
   ]
  },
  {
   "cell_type": "code",
   "execution_count": 5,
   "metadata": {},
   "outputs": [
    {
     "name": "stderr",
     "output_type": "stream",
     "text": [
      "WARNING:pystan:No module named 'stanfit4anon_model_028dac135b2e53051909151891d837c8_2290130854159823998'\n",
      "WARNING:pystan:Something went wrong while unpickling the StanModel. Consider recompiling.\n"
     ]
    },
    {
     "name": "stdout",
     "output_type": "stream",
     "text": [
      "Using cached StanModel\n"
     ]
    }
   ],
   "source": [
    "LME = stan_utility.compile_model('MixedModels/LME.stan', path=\"MixedModels/\", model_name=\"LME\")"
   ]
  },
  {
   "cell_type": "code",
   "execution_count": 6,
   "metadata": {},
   "outputs": [],
   "source": [
    "fastguess_corr['participant'] = [int(x.split('S')[-1].split('_')[0]) for x in fastguess_corr.participant]\n",
    "fixeff_form = \"1+SAT\"#Fixed effects formula\n",
    "raneff_form = \"1\"#Random effects formula\n",
    "fixeff = np.asarray(patsy.dmatrix(fixeff_form, fastguess_corr)) #FE design matrix\n",
    "raneff = np.asarray(patsy.dmatrix(raneff_form, fastguess_corr))\n",
    "prior_intercept = np.asarray([0,.3])\n",
    "priors_mu =  np.asarray([0])#Priors on mu for FE\n",
    "priors_sigma = np.asarray([.3])# priors on sigma for FE\n",
    "priors_raneff = np.asarray([0,.3])#Priors on RE\n",
    "prior_sd = np.asarray([0,.3])\n",
    "\n",
    "r_data = dict(\n",
    "    N = len(fastguess_corr),\n",
    "    P = fixeff.shape[-1], #number of pop level effects \n",
    "    J = len(fastguess_corr.participant.unique()),\n",
    "    n_u = raneff.shape[-1],\n",
    "    subj = fastguess_corr.participant,\n",
    "    X = fixeff,\n",
    "    Z_u = raneff,\n",
    "    y = fastguess_corr.correl.values,\n",
    "    p_intercept = prior_intercept, p_fmu = priors_mu, p_fsigma = priors_sigma, p_r = priors_raneff, p_sd=prior_sd,\n",
    "    logT = 0\n",
    ")\n",
    "\n",
    "if os.path.exists(\"MixedModels/r_fit_FG_exp2.nc\"):\n",
    "    r_fit_FG = az.from_netcdf(\"MixedModels/r_fit_FG_exp2.nc\")\n",
    "\n",
    "else:\n",
    "    r_fit_FG = LME.sampling(data=r_data, iter=2000, chains=6, n_jobs=6, \n",
    "                              warmup = 1000,  control=dict(adapt_delta=0.95))\n",
    "    r_fit_FG = az.from_pystan(posterior=r_fit_FG, posterior_predictive='y_hat', observed_data=\"y\", log_likelihood='log_lik',\n",
    "                                       coords={'b': fixeff_form.split('+')[1:]}, dims={'beta': ['b']})\n",
    "    r_fit_FG.to_netcdf(\"MixedModels/r_fit_FG_exp2.nc\")\n"
   ]
  },
  {
   "cell_type": "markdown",
   "metadata": {},
   "source": [
    "Plotting coefficients"
   ]
  },
  {
   "cell_type": "code",
   "execution_count": 7,
   "metadata": {},
   "outputs": [
    {
     "name": "stderr",
     "output_type": "stream",
     "text": [
      "/home/gabriel/anaconda3/envs/pystan/lib/python3.7/site-packages/arviz/plots/forestplot.py:207: MatplotlibDeprecationWarning: \n",
      "The tick1On function was deprecated in Matplotlib 3.1 and will be removed in 3.3. Use Tick.tick1line.set_visible instead.\n",
      "  ticks.tick1On = False\n",
      "/home/gabriel/anaconda3/envs/pystan/lib/python3.7/site-packages/arviz/plots/forestplot.py:208: MatplotlibDeprecationWarning: \n",
      "The tick2On function was deprecated in Matplotlib 3.1 and will be removed in 3.3. Use Tick.tick2line.set_visible instead.\n",
      "  ticks.tick2On = False\n"
     ]
    },
    {
     "data": {
      "image/png": "[encoded data removed]",
      "text/plain": [
       "<Figure size 648x360 with 1 Axes>"
      ]
     },
     "metadata": {
      "needs_background": "light"
     },
     "output_type": "display_data"
    }
   ],
   "source": [
    "g = az.plot_forest(r_fit_FG,var_names=[\"alpha\",\"beta\"], credible_interval=0.95, combined=True, \n",
    "                   rope=[0, 0], figsize=(9,5))\n",
    "plt.show()"
   ]
  },
  {
   "cell_type": "markdown",
   "metadata": {},
   "source": [
    "Posterior summary values"
   ]
  },
  {
   "cell_type": "code",
   "execution_count": 8,
   "metadata": {},
   "outputs": [
    {
     "name": "stderr",
     "output_type": "stream",
     "text": [
      "/home/gabriel/anaconda3/envs/pystan/lib/python3.7/site-packages/xarray/core/nanops.py:161: RuntimeWarning: Mean of empty slice\n",
      "  return np.nanmean(a, axis=axis, dtype=dtype)\n",
      "/home/gabriel/anaconda3/envs/pystan/lib/python3.7/site-packages/numpy/lib/nanfunctions.py:1628: RuntimeWarning: Degrees of freedom <= 0 for slice.\n",
      "  keepdims=keepdims)\n",
      "/home/gabriel/anaconda3/envs/pystan/lib/python3.7/site-packages/arviz/stats/diagnostics.py:631: RuntimeWarning: invalid value encountered in double_scalars\n",
      "  (between_chain_variance / within_chain_variance + num_samples - 1) / (num_samples)\n",
      "/home/gabriel/anaconda3/envs/pystan/lib/python3.7/site-packages/arviz/stats/diagnostics.py:631: RuntimeWarning: invalid value encountered in double_scalars\n",
      "  (between_chain_variance / within_chain_variance + num_samples - 1) / (num_samples)\n",
      "WARNING:arviz.stats.stats_utils:Array contains NaN-value.\n",
      "WARNING:arviz.stats.stats_utils:Array contains NaN-value.\n"
     ]
    },
    {
     "data": {
      "text/html": [
       "<div>\n",
       "<style scoped>\n",
       "    .dataframe tbody tr th:only-of-type {\n",
       "        vertical-align: middle;\n",
       "    }\n",
       "\n",
       "    .dataframe tbody tr th {\n",
       "        vertical-align: top;\n",
       "    }\n",
       "\n",
       "    .dataframe thead th {\n",
       "        text-align: right;\n",
       "    }\n",
       "</style>\n",
       "<table border=\"1\" class=\"dataframe\">\n",
       "  <thead>\n",
       "    <tr style=\"text-align: right;\">\n",
       "      <th></th>\n",
       "      <th>mean</th>\n",
       "      <th>sd</th>\n",
       "      <th>hpd_2.5%</th>\n",
       "      <th>hpd_97.5%</th>\n",
       "      <th>mcse_mean</th>\n",
       "      <th>mcse_sd</th>\n",
       "      <th>ess_mean</th>\n",
       "      <th>ess_sd</th>\n",
       "      <th>ess_bulk</th>\n",
       "      <th>ess_tail</th>\n",
       "      <th>r_hat</th>\n",
       "    </tr>\n",
       "  </thead>\n",
       "  <tbody>\n",
       "    <tr>\n",
       "      <th>alpha</th>\n",
       "      <td>-0.158</td>\n",
       "      <td>0.052</td>\n",
       "      <td>-0.262</td>\n",
       "      <td>-0.055</td>\n",
       "      <td>0.001</td>\n",
       "      <td>0.001</td>\n",
       "      <td>4463.0</td>\n",
       "      <td>4343.0</td>\n",
       "      <td>4474.0</td>\n",
       "      <td>3874.0</td>\n",
       "      <td>1.0</td>\n",
       "    </tr>\n",
       "    <tr>\n",
       "      <th>sigma</th>\n",
       "      <td>0.204</td>\n",
       "      <td>0.028</td>\n",
       "      <td>0.155</td>\n",
       "      <td>0.262</td>\n",
       "      <td>0.000</td>\n",
       "      <td>0.000</td>\n",
       "      <td>5390.0</td>\n",
       "      <td>5170.0</td>\n",
       "      <td>5496.0</td>\n",
       "      <td>4112.0</td>\n",
       "      <td>1.0</td>\n",
       "    </tr>\n",
       "    <tr>\n",
       "      <th>beta[0]</th>\n",
       "      <td>0.055</td>\n",
       "      <td>0.070</td>\n",
       "      <td>-0.085</td>\n",
       "      <td>0.190</td>\n",
       "      <td>0.001</td>\n",
       "      <td>0.001</td>\n",
       "      <td>4885.0</td>\n",
       "      <td>4237.0</td>\n",
       "      <td>4887.0</td>\n",
       "      <td>4441.0</td>\n",
       "      <td>1.0</td>\n",
       "    </tr>\n",
       "  </tbody>\n",
       "</table>\n",
       "</div>"
      ],
      "text/plain": [
       "          mean     sd  hpd_2.5%  hpd_97.5%  mcse_mean  mcse_sd  ess_mean  \\\n",
       "alpha   -0.158  0.052    -0.262     -0.055      0.001    0.001    4463.0   \n",
       "sigma    0.204  0.028     0.155      0.262      0.000    0.000    5390.0   \n",
       "beta[0]  0.055  0.070    -0.085      0.190      0.001    0.001    4885.0   \n",
       "\n",
       "         ess_sd  ess_bulk  ess_tail  r_hat  \n",
       "alpha    4343.0    4474.0    3874.0    1.0  \n",
       "sigma    5170.0    5496.0    4112.0    1.0  \n",
       "beta[0]  4237.0    4887.0    4441.0    1.0  "
      ]
     },
     "execution_count": 8,
     "metadata": {},
     "output_type": "execute_result"
    }
   ],
   "source": [
    "az.summary(r_fit_FG, credible_interval=.95)[:3]"
   ]
  },
  {
   "cell_type": "markdown",
   "metadata": {},
   "source": [
    "## Computing correlation by quantiles on trimmed data"
   ]
  },
  {
   "cell_type": "code",
   "execution_count": 9,
   "metadata": {},
   "outputs": [],
   "source": [
    "r, part, SAT, quantile,names = [],[],[],[],[]\n",
    "\n",
    "for xx, subj_dat in trimmed_df.groupby(['participant', 'condition']):\n",
    "    subj_dat = subj_dat.copy()\n",
    "    subj_dat[\"quant\"] = pd.qcut(subj_dat.pmt, 5)#creating quantile columns\n",
    "    #renaming :\n",
    "    name_quanti = [str(a) for a in subj_dat.groupby(\"quant\").pmt.mean().index]\n",
    "    mpmt = subj_dat.groupby(\"quant\").pmt.mean().values\n",
    "    subj_dat[\"quant\"] = [str(a) for a in subj_dat[\"quant\"]]\n",
    "    subj_dat[\"quant\"] = subj_dat[\"quant\"].replace(name_quanti, mpmt)\n",
    "    subj_dat[\"names\"] = pd.qcut(subj_dat.pmt, 5, labels=False)\n",
    "    #computing spearman correlation by quantile :\n",
    "    for quant, quant_dat in subj_dat.groupby('quant'):\n",
    "        r.append(stats.spearmanr(quant_dat.mt, quant_dat.pmt)[0])\n",
    "        part.append(xx[0])\n",
    "        SAT.append(xx[1])\n",
    "        quantile.append(quant)\n",
    "        names.append(quant_dat.names.unique()[0])\n",
    "dfcorr = pd.concat([pd.Series(r), pd.Series(part),pd.Series(SAT),pd.Series(quantile),pd.Series(names)], axis=1)\n",
    "dfcorr.columns = ['correl','participant','SAT','quant','names']"
   ]
  },
  {
   "cell_type": "markdown",
   "metadata": {},
   "source": [
    "## Constructing null confidence intervals around correlation values on two random variables"
   ]
  },
  {
   "cell_type": "code",
   "execution_count": 10,
   "metadata": {},
   "outputs": [],
   "source": [
    "from random import sample\n",
    "permuted_r = []\n",
    "lengths = trimmed_df.groupby(['participant','condition']).count().trial #taking real number of trial participant X SAT\n",
    "\n",
    "for i in np.arange(10000):\n",
    "    r = []\n",
    "    for j in lengths:\n",
    "        r.append(stats.spearmanr(sample(set(zip(np.random.normal(0,1, j),np.random.normal(0,1, j))), int(j/5)))[0])\n",
    "    permuted_r.append(np.mean(r))\n",
    "permuted_r = np.asarray(permuted_r)"
   ]
  },
  {
   "cell_type": "code",
   "execution_count": 11,
   "metadata": {},
   "outputs": [
    {
     "data": {
      "image/png": "[encoded data removed]",
      "text/plain": [
       "<Figure size 432x288 with 1 Axes>"
      ]
     },
     "metadata": {
      "needs_background": "light"
     },
     "output_type": "display_data"
    }
   ],
   "source": [
    "g=plt.hist(permuted_r)"
   ]
  },
  {
   "cell_type": "markdown",
   "metadata": {},
   "source": [
    "# Plotting"
   ]
  },
  {
   "cell_type": "markdown",
   "metadata": {},
   "source": [
    "Adding correlation between PMT and MT for identified fast-guesses"
   ]
  },
  {
   "cell_type": "code",
   "execution_count": 13,
   "metadata": {},
   "outputs": [
    {
     "data": {
      "image/png": "[encoded data removed]",
      "text/plain": [
       "<Figure size 1500x900 with 1 Axes>"
      ]
     },
     "metadata": {
      "needs_background": "light"
     },
     "output_type": "display_data"
    }
   ],
   "source": [
    "from matplotlib.lines import Line2D\n",
    "from matplotlib.patches import Polygon\n",
    "\n",
    "permuted_r = np.asarray(permuted_r)\n",
    "fig = plt.figure(dpi=300, figsize=(5,3))\n",
    "plt.hlines(permuted_r.mean() , 50,900, linestyle='--')\n",
    "ci95pos,ci95neg = permuted_r.mean() + permuted_r.std() * 1.96, permuted_r.mean() - permuted_r.std() * 1.96\n",
    "plt.fill([50, 850, 850, 50], [ci95neg, ci95neg, ci95pos, ci95pos], color=\"gray\", alpha=0.4)\n",
    "plt.ylim(-.5,.15)\n",
    "subset = dfcorr[dfcorr.SAT == \"Speed\"]\n",
    "sd_pmt = subset.groupby('names').quant.std()\n",
    "sd_corr = subset.groupby('names').correl.std()\n",
    "plt.errorbar(subset.groupby('names').quant.mean(), subset.groupby('names').correl.mean(),\n",
    "             xerr=(sd_pmt/np.sqrt(16)), yerr= (sd_corr/np.sqrt(16)),\n",
    "             fmt=\"-o\", color=\"gray\", label=\"Quantiles in Speed\")\n",
    "subset = fastguess_corr[fastguess_corr.SAT == \"Speed\"]\n",
    "sd_pmt = subset.pmt.std()\n",
    "sd_corr = subset.correl.std()\n",
    "plt.errorbar(subset.pmt.mean(), subset.correl.mean(),\n",
    "             xerr=(sd_pmt/np.sqrt(16)), yerr= (sd_corr/np.sqrt(16)),\n",
    "             fmt=\"^\", color=\"gray\",  label=\"Fast-guesses in Speed\")\n",
    "plt.plot([subset.pmt.mean(), dfcorr[(dfcorr.SAT == \"Speed\") & (dfcorr.names == 0)].quant.mean()], \n",
    "          [subset.correl.mean(), dfcorr[(dfcorr.SAT == \"Speed\") & (dfcorr.names == 0)].correl.mean()], '--', color=\"gray\")\n",
    "subset = dfcorr[dfcorr.SAT == \"Accuracy\"]\n",
    "sd_pmt = subset.groupby('names').quant.std()\n",
    "sd_corr = subset.groupby('names').correl.std()\n",
    "plt.errorbar(subset.groupby('names').quant.mean(), subset.groupby('names').correl.mean(),\n",
    "             xerr=(sd_pmt/np.sqrt(16)), yerr= (sd_corr/np.sqrt(16)),\n",
    "             fmt=\"-o\", color=\"k\", label=\"Quantiles in Accuracy\")\n",
    "subset = fastguess_corr[fastguess_corr.SAT == \"Accuracy\"]\n",
    "sd_pmt = subset.pmt.std()\n",
    "sd_corr = subset.correl.std()\n",
    "plt.errorbar(subset.pmt.mean(), subset.correl.mean(),             \n",
    "             xerr=(sd_pmt/np.sqrt(16)), yerr= (sd_corr/np.sqrt(16)),\n",
    "             fmt=\"^\", color=\"k\",  label=\"Fast-guesses in Accuracy\")\n",
    "plt.plot([subset.pmt.mean(), dfcorr[(dfcorr.SAT == \"Accuracy\") & (dfcorr.names == 0)].quant.mean()], \n",
    "          [subset.correl.mean(), dfcorr[(dfcorr.SAT == \"Accuracy\") & (dfcorr.names == 0)].correl.mean()], '--', color=\"k\")\n",
    "plt.xlim(100, 850)\n",
    "\n",
    "\n",
    "\n",
    "legend_elements = [Line2D([], [], marker=\"s\", markersize=6, linewidth=0, color=\"k\", label=\"Accuracy\"),\n",
    "                   Line2D([], [], marker=\"s\", markersize=6, linewidth=0, color=\"gray\", label=\"Speed\"),\n",
    "                   Line2D([0], [0], marker='o', color='darkgray', label='Quantile',\n",
    "                          markerfacecolor='w', markersize=8),\n",
    "                   Line2D([0], [0], marker='^', color='darkgray', label='Fast guesses',\n",
    "                          markerfacecolor='w', markersize=8)]\n",
    "\n",
    "plt.ylabel(r\"Mean $r$ value\")\n",
    "plt.xlabel(\"PMT quantile (ms)\")\n",
    "plt.tight_layout()\n",
    "\n",
    "plt.savefig('../Manuscript/plots/Quantcorr2.png')"
   ]
  }
 ],
 "metadata": {
  "anaconda-cloud": {},
  "kernelspec": {
   "display_name": "Python 3",
   "language": "python",
   "name": "python3"
  },
  "language_info": {
   "codemirror_mode": {
    "name": "ipython",
    "version": 3
   },
   "file_extension": ".py",
   "mimetype": "text/x-python",
   "name": "python",
   "nbconvert_exporter": "python",
   "pygments_lexer": "ipython3",
   "version": "3.7.3"
  }
 },
 "nbformat": 4,
 "nbformat_minor": 4
}
